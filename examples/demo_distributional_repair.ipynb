{
 "cells": [
  {
   "cell_type": "code",
   "execution_count": 32,
   "metadata": {},
   "outputs": [],
   "source": [
    "# Load all necessary packages\n",
    "import sys\n",
    "sys.path.append(\"../\")\n",
    "from aif360.algorithms.preprocessing.distributional_repair import DistributionalRepair\n",
    "from aif360.datasets import AdultDataset\n",
    "import numpy as np\n",
    "import pandas as pd\n",
    "import ot\n",
    "import matplotlib.pyplot as plt\n",
    "from sklearn.neighbors import KernelDensity\n"
   ]
  },
  {
   "cell_type": "code",
   "execution_count": 33,
   "metadata": {},
   "outputs": [
    {
     "name": "stderr",
     "output_type": "stream",
     "text": [
      "C:\\Users\\01joh\\AppData\\Local\\Temp\\ipykernel_51132\\307300434.py:18: FutureWarning: Downcasting behavior in `replace` is deprecated and will be removed in a future version. To retain the old behavior, explicitly call `result.infer_objects(copy=False)`. To opt-in to the future behavior, set `pd.set_option('future.no_silent_downcasting', True)`\n",
      "  df['Income Binary'] = df['Income Binary'].replace(to_replace='<=50K', value=0, regex=True)\n"
     ]
    }
   ],
   "source": [
    "def load_adult_dataset():\n",
    "    def custom_preprocessing(df):\n",
    "        def group_race(x):\n",
    "            if x == \"White\":\n",
    "                return 1.0\n",
    "            else:\n",
    "                return 0.0\n",
    "\n",
    "        df['race'] = df['race'].apply(lambda x: group_race(x))\n",
    "\n",
    "        # Encode 'sex' column as numerical values\n",
    "        df['sex'] = df['sex'].map({'Female': 0.0, 'Male': 1.0})\n",
    "\n",
    "        df['Income Binary'] = df['income-per-year']\n",
    "        df['Income Binary'] = df['Income Binary'].replace(to_replace='>50K.', value=1, regex=True)\n",
    "        df['Income Binary'] = df['Income Binary'].replace(to_replace='>50K', value=1, regex=True)\n",
    "        df['Income Binary'] = df['Income Binary'].replace(to_replace='<=50K.', value=0, regex=True)\n",
    "        df['Income Binary'] = df['Income Binary'].replace(to_replace='<=50K', value=0, regex=True)\n",
    "        # 1 if education-num is greater than 9, 0 otherwise\n",
    "        df['college_educated'] = (df['education-num'] > 9).astype(int)\n",
    "\n",
    "        #drop nan columns\n",
    "        df = df.dropna()\n",
    "\n",
    "        return df\n",
    "\n",
    "    adult = AdultDataset(\n",
    "        label_name=\"Income Binary\",\n",
    "        favorable_classes=[1,1],\n",
    "        protected_attribute_names=['sex','race'],\n",
    "        privileged_classes=[[1.0], [1.0]],\n",
    "        instance_weights_name=None,\n",
    "        categorical_features=[],\n",
    "        features_to_keep=['age', 'sex','college_educated', 'education-num', 'hours-per-week', 'race', 'fnlwgt'],\n",
    "        na_values=[],\n",
    "        custom_preprocessing=custom_preprocessing,\n",
    "        features_to_drop=[],\n",
    "        metadata={}\n",
    "    )\n",
    "    return adult\n",
    "\n",
    "data = load_adult_dataset()"
   ]
  },
  {
   "cell_type": "code",
   "execution_count": 34,
   "metadata": {},
   "outputs": [],
   "source": [
    "\n",
    "n_R = 10000 # number of points in the research dataset\n",
    "n_q = 250 # number of supports under the estimated pdfs\n",
    "\n",
    "train_frac = 1.0 # proportion of research data to train classifier with\n"
   ]
  },
  {
   "cell_type": "code",
   "execution_count": 35,
   "metadata": {},
   "outputs": [],
   "source": [
    "s = 'sex'\n",
    "u = 'college_educated'\n",
    "x = ['age','education-num','hours-per-week']\n",
    "y = 'Income Binary'\n",
    "\n",
    "continuous_features = ['age','hours-per-week']"
   ]
  },
  {
   "cell_type": "code",
   "execution_count": 46,
   "metadata": {},
   "outputs": [
    {
     "ename": "KeyError",
     "evalue": "\"None of [Index([52.0, 16.0, 40.0], dtype='float64')] are in the [columns]\"",
     "output_type": "error",
     "traceback": [
      "\u001b[1;31m---------------------------------------------------------------------------\u001b[0m",
      "\u001b[1;31mKeyError\u001b[0m                                  Traceback (most recent call last)",
      "Cell \u001b[1;32mIn[46], line 17\u001b[0m\n\u001b[0;32m     13\u001b[0m     y_A \u001b[38;5;241m=\u001b[39m dataset\u001b[38;5;241m.\u001b[39mloc[R_idx[n_R:], y]\n\u001b[0;32m     15\u001b[0m     \u001b[38;5;28;01mreturn\u001b[39;00m s_R, u_R, x_R, y_R, s_A, u_A, x_A, y_A\n\u001b[1;32m---> 17\u001b[0m s_R, u_R, x_R, y_R, s_A, u_A, x_A, y_A \u001b[38;5;241m=\u001b[39m \u001b[43msplitDataset\u001b[49m\u001b[43m(\u001b[49m\u001b[43mdata\u001b[49m\u001b[38;5;241;43m.\u001b[39;49m\u001b[43mconvert_to_dataframe\u001b[49m\u001b[43m(\u001b[49m\u001b[43m)\u001b[49m\u001b[43m[\u001b[49m\u001b[38;5;241;43m0\u001b[39;49m\u001b[43m]\u001b[49m\u001b[43m,\u001b[49m\u001b[43m \u001b[49m\u001b[43ms\u001b[49m\u001b[43m,\u001b[49m\u001b[43m \u001b[49m\u001b[43mu\u001b[49m\u001b[43m,\u001b[49m\u001b[43m \u001b[49m\u001b[43mx\u001b[49m\u001b[43m,\u001b[49m\u001b[43m \u001b[49m\u001b[43my\u001b[49m\u001b[43m,\u001b[49m\u001b[43m \u001b[49m\u001b[43mn_R\u001b[49m\u001b[43m)\u001b[49m\n",
      "Cell \u001b[1;32mIn[46], line 7\u001b[0m, in \u001b[0;36msplitDataset\u001b[1;34m(dataset, s, u, x, y, n_R)\u001b[0m\n\u001b[0;32m      5\u001b[0m s_R \u001b[38;5;241m=\u001b[39m dataset\u001b[38;5;241m.\u001b[39mloc[R_idx[:n_R], s]\n\u001b[0;32m      6\u001b[0m u_R \u001b[38;5;241m=\u001b[39m dataset\u001b[38;5;241m.\u001b[39mloc[R_idx[:n_R], u]\n\u001b[1;32m----> 7\u001b[0m x_R \u001b[38;5;241m=\u001b[39m \u001b[43mdataset\u001b[49m\u001b[38;5;241;43m.\u001b[39;49m\u001b[43mloc\u001b[49m\u001b[43m[\u001b[49m\u001b[43mR_idx\u001b[49m\u001b[43m[\u001b[49m\u001b[43m:\u001b[49m\u001b[43mn_R\u001b[49m\u001b[43m]\u001b[49m\u001b[43m,\u001b[49m\u001b[43m \u001b[49m\u001b[43mx\u001b[49m\u001b[43m]\u001b[49m\n\u001b[0;32m      8\u001b[0m y_R \u001b[38;5;241m=\u001b[39m dataset\u001b[38;5;241m.\u001b[39mloc[R_idx[:n_R], y]\n\u001b[0;32m     10\u001b[0m s_A \u001b[38;5;241m=\u001b[39m dataset\u001b[38;5;241m.\u001b[39mloc[R_idx[n_R:], s]\n",
      "File \u001b[1;32m~\\AppData\\Local\\Packages\\PythonSoftwareFoundation.Python.3.10_qbz5n2kfra8p0\\LocalCache\\local-packages\\Python310\\site-packages\\pandas\\core\\indexing.py:1184\u001b[0m, in \u001b[0;36m_LocationIndexer.__getitem__\u001b[1;34m(self, key)\u001b[0m\n\u001b[0;32m   1182\u001b[0m     \u001b[38;5;28;01mif\u001b[39;00m \u001b[38;5;28mself\u001b[39m\u001b[38;5;241m.\u001b[39m_is_scalar_access(key):\n\u001b[0;32m   1183\u001b[0m         \u001b[38;5;28;01mreturn\u001b[39;00m \u001b[38;5;28mself\u001b[39m\u001b[38;5;241m.\u001b[39mobj\u001b[38;5;241m.\u001b[39m_get_value(\u001b[38;5;241m*\u001b[39mkey, takeable\u001b[38;5;241m=\u001b[39m\u001b[38;5;28mself\u001b[39m\u001b[38;5;241m.\u001b[39m_takeable)\n\u001b[1;32m-> 1184\u001b[0m     \u001b[38;5;28;01mreturn\u001b[39;00m \u001b[38;5;28;43mself\u001b[39;49m\u001b[38;5;241;43m.\u001b[39;49m\u001b[43m_getitem_tuple\u001b[49m\u001b[43m(\u001b[49m\u001b[43mkey\u001b[49m\u001b[43m)\u001b[49m\n\u001b[0;32m   1185\u001b[0m \u001b[38;5;28;01melse\u001b[39;00m:\n\u001b[0;32m   1186\u001b[0m     \u001b[38;5;66;03m# we by definition only have the 0th axis\u001b[39;00m\n\u001b[0;32m   1187\u001b[0m     axis \u001b[38;5;241m=\u001b[39m \u001b[38;5;28mself\u001b[39m\u001b[38;5;241m.\u001b[39maxis \u001b[38;5;129;01mor\u001b[39;00m \u001b[38;5;241m0\u001b[39m\n",
      "File \u001b[1;32m~\\AppData\\Local\\Packages\\PythonSoftwareFoundation.Python.3.10_qbz5n2kfra8p0\\LocalCache\\local-packages\\Python310\\site-packages\\pandas\\core\\indexing.py:1375\u001b[0m, in \u001b[0;36m_LocIndexer._getitem_tuple\u001b[1;34m(self, tup)\u001b[0m\n\u001b[0;32m   1373\u001b[0m \u001b[38;5;66;03m# ugly hack for GH #836\u001b[39;00m\n\u001b[0;32m   1374\u001b[0m \u001b[38;5;28;01mif\u001b[39;00m \u001b[38;5;28mself\u001b[39m\u001b[38;5;241m.\u001b[39m_multi_take_opportunity(tup):\n\u001b[1;32m-> 1375\u001b[0m     \u001b[38;5;28;01mreturn\u001b[39;00m \u001b[38;5;28;43mself\u001b[39;49m\u001b[38;5;241;43m.\u001b[39;49m\u001b[43m_multi_take\u001b[49m\u001b[43m(\u001b[49m\u001b[43mtup\u001b[49m\u001b[43m)\u001b[49m\n\u001b[0;32m   1377\u001b[0m \u001b[38;5;28;01mreturn\u001b[39;00m \u001b[38;5;28mself\u001b[39m\u001b[38;5;241m.\u001b[39m_getitem_tuple_same_dim(tup)\n",
      "File \u001b[1;32m~\\AppData\\Local\\Packages\\PythonSoftwareFoundation.Python.3.10_qbz5n2kfra8p0\\LocalCache\\local-packages\\Python310\\site-packages\\pandas\\core\\indexing.py:1326\u001b[0m, in \u001b[0;36m_LocIndexer._multi_take\u001b[1;34m(self, tup)\u001b[0m\n\u001b[0;32m   1310\u001b[0m \u001b[38;5;250m\u001b[39m\u001b[38;5;124;03m\"\"\"\u001b[39;00m\n\u001b[0;32m   1311\u001b[0m \u001b[38;5;124;03mCreate the indexers for the passed tuple of keys, and\u001b[39;00m\n\u001b[0;32m   1312\u001b[0m \u001b[38;5;124;03mexecutes the take operation. This allows the take operation to be\u001b[39;00m\n\u001b[1;32m   (...)\u001b[0m\n\u001b[0;32m   1323\u001b[0m \u001b[38;5;124;03mvalues: same type as the object being indexed\u001b[39;00m\n\u001b[0;32m   1324\u001b[0m \u001b[38;5;124;03m\"\"\"\u001b[39;00m\n\u001b[0;32m   1325\u001b[0m \u001b[38;5;66;03m# GH 836\u001b[39;00m\n\u001b[1;32m-> 1326\u001b[0m d \u001b[38;5;241m=\u001b[39m {\n\u001b[0;32m   1327\u001b[0m     axis: \u001b[38;5;28mself\u001b[39m\u001b[38;5;241m.\u001b[39m_get_listlike_indexer(key, axis)\n\u001b[0;32m   1328\u001b[0m     \u001b[38;5;28;01mfor\u001b[39;00m (key, axis) \u001b[38;5;129;01min\u001b[39;00m \u001b[38;5;28mzip\u001b[39m(tup, \u001b[38;5;28mself\u001b[39m\u001b[38;5;241m.\u001b[39mobj\u001b[38;5;241m.\u001b[39m_AXIS_ORDERS)\n\u001b[0;32m   1329\u001b[0m }\n\u001b[0;32m   1330\u001b[0m \u001b[38;5;28;01mreturn\u001b[39;00m \u001b[38;5;28mself\u001b[39m\u001b[38;5;241m.\u001b[39mobj\u001b[38;5;241m.\u001b[39m_reindex_with_indexers(d, copy\u001b[38;5;241m=\u001b[39m\u001b[38;5;28;01mTrue\u001b[39;00m, allow_dups\u001b[38;5;241m=\u001b[39m\u001b[38;5;28;01mTrue\u001b[39;00m)\n",
      "File \u001b[1;32m~\\AppData\\Local\\Packages\\PythonSoftwareFoundation.Python.3.10_qbz5n2kfra8p0\\LocalCache\\local-packages\\Python310\\site-packages\\pandas\\core\\indexing.py:1327\u001b[0m, in \u001b[0;36m<dictcomp>\u001b[1;34m(.0)\u001b[0m\n\u001b[0;32m   1310\u001b[0m \u001b[38;5;250m\u001b[39m\u001b[38;5;124;03m\"\"\"\u001b[39;00m\n\u001b[0;32m   1311\u001b[0m \u001b[38;5;124;03mCreate the indexers for the passed tuple of keys, and\u001b[39;00m\n\u001b[0;32m   1312\u001b[0m \u001b[38;5;124;03mexecutes the take operation. This allows the take operation to be\u001b[39;00m\n\u001b[1;32m   (...)\u001b[0m\n\u001b[0;32m   1323\u001b[0m \u001b[38;5;124;03mvalues: same type as the object being indexed\u001b[39;00m\n\u001b[0;32m   1324\u001b[0m \u001b[38;5;124;03m\"\"\"\u001b[39;00m\n\u001b[0;32m   1325\u001b[0m \u001b[38;5;66;03m# GH 836\u001b[39;00m\n\u001b[0;32m   1326\u001b[0m d \u001b[38;5;241m=\u001b[39m {\n\u001b[1;32m-> 1327\u001b[0m     axis: \u001b[38;5;28;43mself\u001b[39;49m\u001b[38;5;241;43m.\u001b[39;49m\u001b[43m_get_listlike_indexer\u001b[49m\u001b[43m(\u001b[49m\u001b[43mkey\u001b[49m\u001b[43m,\u001b[49m\u001b[43m \u001b[49m\u001b[43maxis\u001b[49m\u001b[43m)\u001b[49m\n\u001b[0;32m   1328\u001b[0m     \u001b[38;5;28;01mfor\u001b[39;00m (key, axis) \u001b[38;5;129;01min\u001b[39;00m \u001b[38;5;28mzip\u001b[39m(tup, \u001b[38;5;28mself\u001b[39m\u001b[38;5;241m.\u001b[39mobj\u001b[38;5;241m.\u001b[39m_AXIS_ORDERS)\n\u001b[0;32m   1329\u001b[0m }\n\u001b[0;32m   1330\u001b[0m \u001b[38;5;28;01mreturn\u001b[39;00m \u001b[38;5;28mself\u001b[39m\u001b[38;5;241m.\u001b[39mobj\u001b[38;5;241m.\u001b[39m_reindex_with_indexers(d, copy\u001b[38;5;241m=\u001b[39m\u001b[38;5;28;01mTrue\u001b[39;00m, allow_dups\u001b[38;5;241m=\u001b[39m\u001b[38;5;28;01mTrue\u001b[39;00m)\n",
      "File \u001b[1;32m~\\AppData\\Local\\Packages\\PythonSoftwareFoundation.Python.3.10_qbz5n2kfra8p0\\LocalCache\\local-packages\\Python310\\site-packages\\pandas\\core\\indexing.py:1558\u001b[0m, in \u001b[0;36m_LocIndexer._get_listlike_indexer\u001b[1;34m(self, key, axis)\u001b[0m\n\u001b[0;32m   1555\u001b[0m ax \u001b[38;5;241m=\u001b[39m \u001b[38;5;28mself\u001b[39m\u001b[38;5;241m.\u001b[39mobj\u001b[38;5;241m.\u001b[39m_get_axis(axis)\n\u001b[0;32m   1556\u001b[0m axis_name \u001b[38;5;241m=\u001b[39m \u001b[38;5;28mself\u001b[39m\u001b[38;5;241m.\u001b[39mobj\u001b[38;5;241m.\u001b[39m_get_axis_name(axis)\n\u001b[1;32m-> 1558\u001b[0m keyarr, indexer \u001b[38;5;241m=\u001b[39m \u001b[43max\u001b[49m\u001b[38;5;241;43m.\u001b[39;49m\u001b[43m_get_indexer_strict\u001b[49m\u001b[43m(\u001b[49m\u001b[43mkey\u001b[49m\u001b[43m,\u001b[49m\u001b[43m \u001b[49m\u001b[43maxis_name\u001b[49m\u001b[43m)\u001b[49m\n\u001b[0;32m   1560\u001b[0m \u001b[38;5;28;01mreturn\u001b[39;00m keyarr, indexer\n",
      "File \u001b[1;32m~\\AppData\\Local\\Packages\\PythonSoftwareFoundation.Python.3.10_qbz5n2kfra8p0\\LocalCache\\local-packages\\Python310\\site-packages\\pandas\\core\\indexes\\base.py:6200\u001b[0m, in \u001b[0;36mIndex._get_indexer_strict\u001b[1;34m(self, key, axis_name)\u001b[0m\n\u001b[0;32m   6197\u001b[0m \u001b[38;5;28;01melse\u001b[39;00m:\n\u001b[0;32m   6198\u001b[0m     keyarr, indexer, new_indexer \u001b[38;5;241m=\u001b[39m \u001b[38;5;28mself\u001b[39m\u001b[38;5;241m.\u001b[39m_reindex_non_unique(keyarr)\n\u001b[1;32m-> 6200\u001b[0m \u001b[38;5;28;43mself\u001b[39;49m\u001b[38;5;241;43m.\u001b[39;49m\u001b[43m_raise_if_missing\u001b[49m\u001b[43m(\u001b[49m\u001b[43mkeyarr\u001b[49m\u001b[43m,\u001b[49m\u001b[43m \u001b[49m\u001b[43mindexer\u001b[49m\u001b[43m,\u001b[49m\u001b[43m \u001b[49m\u001b[43maxis_name\u001b[49m\u001b[43m)\u001b[49m\n\u001b[0;32m   6202\u001b[0m keyarr \u001b[38;5;241m=\u001b[39m \u001b[38;5;28mself\u001b[39m\u001b[38;5;241m.\u001b[39mtake(indexer)\n\u001b[0;32m   6203\u001b[0m \u001b[38;5;28;01mif\u001b[39;00m \u001b[38;5;28misinstance\u001b[39m(key, Index):\n\u001b[0;32m   6204\u001b[0m     \u001b[38;5;66;03m# GH 42790 - Preserve name from an Index\u001b[39;00m\n",
      "File \u001b[1;32m~\\AppData\\Local\\Packages\\PythonSoftwareFoundation.Python.3.10_qbz5n2kfra8p0\\LocalCache\\local-packages\\Python310\\site-packages\\pandas\\core\\indexes\\base.py:6249\u001b[0m, in \u001b[0;36mIndex._raise_if_missing\u001b[1;34m(self, key, indexer, axis_name)\u001b[0m\n\u001b[0;32m   6247\u001b[0m \u001b[38;5;28;01mif\u001b[39;00m nmissing:\n\u001b[0;32m   6248\u001b[0m     \u001b[38;5;28;01mif\u001b[39;00m nmissing \u001b[38;5;241m==\u001b[39m \u001b[38;5;28mlen\u001b[39m(indexer):\n\u001b[1;32m-> 6249\u001b[0m         \u001b[38;5;28;01mraise\u001b[39;00m \u001b[38;5;167;01mKeyError\u001b[39;00m(\u001b[38;5;124mf\u001b[39m\u001b[38;5;124m\"\u001b[39m\u001b[38;5;124mNone of [\u001b[39m\u001b[38;5;132;01m{\u001b[39;00mkey\u001b[38;5;132;01m}\u001b[39;00m\u001b[38;5;124m] are in the [\u001b[39m\u001b[38;5;132;01m{\u001b[39;00maxis_name\u001b[38;5;132;01m}\u001b[39;00m\u001b[38;5;124m]\u001b[39m\u001b[38;5;124m\"\u001b[39m)\n\u001b[0;32m   6251\u001b[0m     not_found \u001b[38;5;241m=\u001b[39m \u001b[38;5;28mlist\u001b[39m(ensure_index(key)[missing_mask\u001b[38;5;241m.\u001b[39mnonzero()[\u001b[38;5;241m0\u001b[39m]]\u001b[38;5;241m.\u001b[39munique())\n\u001b[0;32m   6252\u001b[0m     \u001b[38;5;28;01mraise\u001b[39;00m \u001b[38;5;167;01mKeyError\u001b[39;00m(\u001b[38;5;124mf\u001b[39m\u001b[38;5;124m\"\u001b[39m\u001b[38;5;132;01m{\u001b[39;00mnot_found\u001b[38;5;132;01m}\u001b[39;00m\u001b[38;5;124m not in index\u001b[39m\u001b[38;5;124m\"\u001b[39m)\n",
      "\u001b[1;31mKeyError\u001b[0m: \"None of [Index([52.0, 16.0, 40.0], dtype='float64')] are in the [columns]\""
     ]
    }
   ],
   "source": [
    "def splitDataset(dataset, s,u,x,y,n_R):\n",
    "    np.random.seed(0)\n",
    "    R_idx = np.random.permutation(dataset.index)\n",
    "\n",
    "    s_R = dataset.loc[R_idx[:n_R], s]\n",
    "    u_R = dataset.loc[R_idx[:n_R], u]\n",
    "    x_R = dataset.loc[R_idx[:n_R], x]\n",
    "    y_R = dataset.loc[R_idx[:n_R], y]\n",
    "\n",
    "    s_A = dataset.loc[R_idx[n_R:], s]\n",
    "    u_A = dataset.loc[R_idx[n_R:], u]\n",
    "    x_A = dataset.loc[R_idx[n_R:], x]\n",
    "    y_A = dataset.loc[R_idx[n_R:], y]\n",
    "\n",
    "    return s_R, u_R, x_R, y_R, s_A, u_A, x_A, y_A\n",
    "\n",
    "s_R, u_R, x_R, y_R, s_A, u_A, x_A, y_A = splitDataset(data.convert_to_dataframe()[0], s, u, x, y, n_R)"
   ]
  },
  {
   "cell_type": "code",
   "execution_count": 37,
   "metadata": {},
   "outputs": [
    {
     "name": "stdout",
     "output_type": "stream",
     "text": [
      "Repairing u = 0.0\n",
      "Repairing feature age, continuous = True\n"
     ]
    },
    {
     "name": "stdout",
     "output_type": "stream",
     "text": [
      "Repairing feature education-num, continuous = False\n",
      "Repairing feature hours-per-week, continuous = True\n",
      "Repairing u = 1.0\n",
      "Repairing feature age, continuous = True\n",
      "Repairing feature education-num, continuous = False\n",
      "Repairing feature hours-per-week, continuous = True\n"
     ]
    }
   ],
   "source": [
    "tilde_x_R_pt = x_R.copy()\n",
    "tilde_x_R = x_R.copy()\n",
    "tilde_x_A = x_A.copy()\n",
    "\n",
    "for u_val in data.convert_to_dataframe()[0][u].unique():\n",
    "    print(f\"Repairing u = {u_val}\")\n",
    "    for feat in x_R.columns:\n",
    "        continuous = feat in continuous_features\n",
    "        print(f\"Repairing feature {feat}, continuous = {continuous}\")\n",
    "        d = DistributionalRepair()\n",
    "        d.fit(s_R, u_R, x_R, feat, n_q, u_val, continuous)\n",
    "        tilde_x_A, tilde_x_R = d.transform(s_R, u_R, x_R, feat, s_A, u_A, x_A, tilde_x_R, tilde_x_A, u_val,continuous)\n",
    "\n",
    "    M = ot.dist(x_R[(u_R == u_val) & (s_R == 0)].values, x_R[(u_R == u_val) & (s_R == 1)].values)\n",
    "    n_0 = int(len(x_R[(u_R == u_val) & (s_R == 0)]))\n",
    "    n_1 = int(len(x_R[(u_R == u_val) & (s_R == 1)]))\n",
    "\n",
    "    T = ot.emd(np.ones(n_0)/n_0, np.ones(n_1)/n_1, M)\n",
    "    for i, (pd_idx, x) in enumerate(x_R[(u_R == u_val) & (s_R == 0)].iterrows()):\n",
    "        row = T[i,:]\n",
    "        row /= np.sum(row)\n",
    "        tilde_x_R_pt.loc[pd_idx, :] = 0.5 * x.values + 0.5 * row @ x_R[(u_R == u_val) & (s_R == 1)].values\n",
    "\n",
    "    for j, (pd_idx, x) in enumerate(x_R[(u_R == u_val) & (s_R == 1)].iterrows()):\n",
    "        col = T[:,j]\n",
    "        col /= np.sum(col)\n",
    "        tilde_x_R_pt.loc[pd_idx, :] = 0.5 * x.values + 0.5 * col @ x_R[(u_R == u_val) & (s_R == 0)].values    "
   ]
  },
  {
   "cell_type": "code",
   "execution_count": 38,
   "metadata": {},
   "outputs": [
    {
     "data": {
      "text/html": [
       "<div>\n",
       "<style scoped>\n",
       "    .dataframe tbody tr th:only-of-type {\n",
       "        vertical-align: middle;\n",
       "    }\n",
       "\n",
       "    .dataframe tbody tr th {\n",
       "        vertical-align: top;\n",
       "    }\n",
       "\n",
       "    .dataframe thead th {\n",
       "        text-align: right;\n",
       "    }\n",
       "</style>\n",
       "<table border=\"1\" class=\"dataframe\">\n",
       "  <thead>\n",
       "    <tr style=\"text-align: right;\">\n",
       "      <th></th>\n",
       "      <th>age</th>\n",
       "      <th>fnlwgt</th>\n",
       "      <th>education-num</th>\n",
       "      <th>race</th>\n",
       "      <th>sex</th>\n",
       "      <th>hours-per-week</th>\n",
       "      <th>college_educated</th>\n",
       "      <th>Income Binary</th>\n",
       "    </tr>\n",
       "  </thead>\n",
       "  <tbody>\n",
       "    <tr>\n",
       "      <th>0</th>\n",
       "      <td>25.0</td>\n",
       "      <td>226802.0</td>\n",
       "      <td>7.0</td>\n",
       "      <td>0.0</td>\n",
       "      <td>1.0</td>\n",
       "      <td>40.0</td>\n",
       "      <td>0.0</td>\n",
       "      <td>0.0</td>\n",
       "    </tr>\n",
       "    <tr>\n",
       "      <th>1</th>\n",
       "      <td>38.0</td>\n",
       "      <td>89814.0</td>\n",
       "      <td>9.0</td>\n",
       "      <td>1.0</td>\n",
       "      <td>1.0</td>\n",
       "      <td>50.0</td>\n",
       "      <td>0.0</td>\n",
       "      <td>0.0</td>\n",
       "    </tr>\n",
       "    <tr>\n",
       "      <th>2</th>\n",
       "      <td>28.0</td>\n",
       "      <td>336951.0</td>\n",
       "      <td>12.0</td>\n",
       "      <td>1.0</td>\n",
       "      <td>1.0</td>\n",
       "      <td>40.0</td>\n",
       "      <td>1.0</td>\n",
       "      <td>1.0</td>\n",
       "    </tr>\n",
       "    <tr>\n",
       "      <th>3</th>\n",
       "      <td>44.0</td>\n",
       "      <td>160323.0</td>\n",
       "      <td>10.0</td>\n",
       "      <td>0.0</td>\n",
       "      <td>1.0</td>\n",
       "      <td>40.0</td>\n",
       "      <td>1.0</td>\n",
       "      <td>1.0</td>\n",
       "    </tr>\n",
       "    <tr>\n",
       "      <th>4</th>\n",
       "      <td>18.0</td>\n",
       "      <td>103497.0</td>\n",
       "      <td>10.0</td>\n",
       "      <td>1.0</td>\n",
       "      <td>0.0</td>\n",
       "      <td>30.0</td>\n",
       "      <td>1.0</td>\n",
       "      <td>0.0</td>\n",
       "    </tr>\n",
       "  </tbody>\n",
       "</table>\n",
       "</div>"
      ],
      "text/plain": [
       "    age    fnlwgt  education-num  race  sex  hours-per-week  college_educated  \\\n",
       "0  25.0  226802.0            7.0   0.0  1.0            40.0               0.0   \n",
       "1  38.0   89814.0            9.0   1.0  1.0            50.0               0.0   \n",
       "2  28.0  336951.0           12.0   1.0  1.0            40.0               1.0   \n",
       "3  44.0  160323.0           10.0   0.0  1.0            40.0               1.0   \n",
       "4  18.0  103497.0           10.0   1.0  0.0            30.0               1.0   \n",
       "\n",
       "   Income Binary  \n",
       "0            0.0  \n",
       "1            0.0  \n",
       "2            1.0  \n",
       "3            1.0  \n",
       "4            0.0  "
      ]
     },
     "execution_count": 38,
     "metadata": {},
     "output_type": "execute_result"
    }
   ],
   "source": [
    "data.convert_to_dataframe()[0].head()"
   ]
  },
  {
   "cell_type": "code",
   "execution_count": 39,
   "metadata": {},
   "outputs": [
    {
     "name": "stdout",
     "output_type": "stream",
     "text": [
      "<class 'pandas.core.frame.DataFrame'>\n",
      "Index: 48842 entries, 0 to 48841\n",
      "Data columns (total 8 columns):\n",
      " #   Column            Non-Null Count  Dtype  \n",
      "---  ------            --------------  -----  \n",
      " 0   age               48842 non-null  float64\n",
      " 1   fnlwgt            48842 non-null  float64\n",
      " 2   education-num     48842 non-null  float64\n",
      " 3   race              48842 non-null  float64\n",
      " 4   sex               48842 non-null  float64\n",
      " 5   hours-per-week    48842 non-null  float64\n",
      " 6   college_educated  48842 non-null  float64\n",
      " 7   Income Binary     48842 non-null  float64\n",
      "dtypes: float64(8)\n",
      "memory usage: 3.4+ MB\n"
     ]
    }
   ],
   "source": [
    "data.convert_to_dataframe()[0].info()"
   ]
  },
  {
   "cell_type": "code",
   "execution_count": 40,
   "metadata": {},
   "outputs": [
    {
     "data": {
      "text/html": [
       "<div>\n",
       "<style scoped>\n",
       "    .dataframe tbody tr th:only-of-type {\n",
       "        vertical-align: middle;\n",
       "    }\n",
       "\n",
       "    .dataframe tbody tr th {\n",
       "        vertical-align: top;\n",
       "    }\n",
       "\n",
       "    .dataframe thead th {\n",
       "        text-align: right;\n",
       "    }\n",
       "</style>\n",
       "<table border=\"1\" class=\"dataframe\">\n",
       "  <thead>\n",
       "    <tr style=\"text-align: right;\">\n",
       "      <th></th>\n",
       "      <th>age</th>\n",
       "      <th>education-num</th>\n",
       "      <th>hours-per-week</th>\n",
       "    </tr>\n",
       "  </thead>\n",
       "  <tbody>\n",
       "    <tr>\n",
       "      <th>38113</th>\n",
       "      <td>36.0</td>\n",
       "      <td>13.0</td>\n",
       "      <td>40.0</td>\n",
       "    </tr>\n",
       "    <tr>\n",
       "      <th>39214</th>\n",
       "      <td>57.0</td>\n",
       "      <td>15.0</td>\n",
       "      <td>36.0</td>\n",
       "    </tr>\n",
       "    <tr>\n",
       "      <th>44248</th>\n",
       "      <td>49.0</td>\n",
       "      <td>14.0</td>\n",
       "      <td>45.0</td>\n",
       "    </tr>\n",
       "    <tr>\n",
       "      <th>10283</th>\n",
       "      <td>54.0</td>\n",
       "      <td>3.0</td>\n",
       "      <td>55.0</td>\n",
       "    </tr>\n",
       "    <tr>\n",
       "      <th>26724</th>\n",
       "      <td>17.0</td>\n",
       "      <td>6.0</td>\n",
       "      <td>24.0</td>\n",
       "    </tr>\n",
       "  </tbody>\n",
       "</table>\n",
       "</div>"
      ],
      "text/plain": [
       "        age  education-num  hours-per-week\n",
       "38113  36.0           13.0            40.0\n",
       "39214  57.0           15.0            36.0\n",
       "44248  49.0           14.0            45.0\n",
       "10283  54.0            3.0            55.0\n",
       "26724  17.0            6.0            24.0"
      ]
     },
     "execution_count": 40,
     "metadata": {},
     "output_type": "execute_result"
    }
   ],
   "source": [
    "x_R.head()"
   ]
  },
  {
   "cell_type": "code",
   "execution_count": 41,
   "metadata": {},
   "outputs": [
    {
     "data": {
      "text/html": [
       "<div>\n",
       "<style scoped>\n",
       "    .dataframe tbody tr th:only-of-type {\n",
       "        vertical-align: middle;\n",
       "    }\n",
       "\n",
       "    .dataframe tbody tr th {\n",
       "        vertical-align: top;\n",
       "    }\n",
       "\n",
       "    .dataframe thead th {\n",
       "        text-align: right;\n",
       "    }\n",
       "</style>\n",
       "<table border=\"1\" class=\"dataframe\">\n",
       "  <thead>\n",
       "    <tr style=\"text-align: right;\">\n",
       "      <th></th>\n",
       "      <th>age</th>\n",
       "      <th>education-num</th>\n",
       "      <th>hours-per-week</th>\n",
       "    </tr>\n",
       "  </thead>\n",
       "  <tbody>\n",
       "    <tr>\n",
       "      <th>38113</th>\n",
       "      <td>33.271084</td>\n",
       "      <td>13.0</td>\n",
       "      <td>38.901205</td>\n",
       "    </tr>\n",
       "    <tr>\n",
       "      <th>39214</th>\n",
       "      <td>55.434940</td>\n",
       "      <td>14.0</td>\n",
       "      <td>28.983133</td>\n",
       "    </tr>\n",
       "    <tr>\n",
       "      <th>44248</th>\n",
       "      <td>46.991566</td>\n",
       "      <td>14.0</td>\n",
       "      <td>43.151807</td>\n",
       "    </tr>\n",
       "    <tr>\n",
       "      <th>10283</th>\n",
       "      <td>54.379518</td>\n",
       "      <td>3.0</td>\n",
       "      <td>49.763855</td>\n",
       "    </tr>\n",
       "    <tr>\n",
       "      <th>26724</th>\n",
       "      <td>16.384337</td>\n",
       "      <td>4.0</td>\n",
       "      <td>29.927711</td>\n",
       "    </tr>\n",
       "  </tbody>\n",
       "</table>\n",
       "</div>"
      ],
      "text/plain": [
       "             age  education-num  hours-per-week\n",
       "38113  33.271084           13.0       38.901205\n",
       "39214  55.434940           14.0       28.983133\n",
       "44248  46.991566           14.0       43.151807\n",
       "10283  54.379518            3.0       49.763855\n",
       "26724  16.384337            4.0       29.927711"
      ]
     },
     "execution_count": 41,
     "metadata": {},
     "output_type": "execute_result"
    }
   ],
   "source": [
    "tilde_x_R.head()"
   ]
  },
  {
   "cell_type": "code",
   "execution_count": 42,
   "metadata": {},
   "outputs": [],
   "source": [
    "def eval_labels(Y, S, S_set=[0,1]):\n",
    "    eval_dict = {}\n",
    "    eval_dict['di'] = np.sum(Y[S == S_set[0]]) / np.sum(Y[S == S_set[1]])\n",
    "    return eval_dict\n",
    "\n",
    "def _eval_kld(x_0, x_1):\n",
    "    support = np.linspace(np.min([np.min(x_0), np.min(x_1)]), np.max([np.max(x_0), np.max(x_1)]), 500).reshape(-1,1)\n",
    "\n",
    "    kde_0 = KernelDensity(kernel='gaussian').fit(x_0.values.reshape(-1,1))\n",
    "    pmf_0 = np.exp(kde_0.score_samples(support))\n",
    "    kde_1 = KernelDensity(kernel='gaussian').fit(x_1.values.reshape(-1,1))\n",
    "    pmf_1 = np.exp(kde_1.score_samples(support))\n",
    "\n",
    "    return - np.sum(pmf_0 * np.log(pmf_1 / pmf_0))\n",
    "\n",
    "def eval_kld(x, s, u, order=[0,1]):\n",
    "    tot_kld = 0.0\n",
    "    for u_val, u_count in u.value_counts().items():\n",
    "        if (len(x[(u == u_val) & (s == 0)]) == 0) or (len(x[(u == u_val) & (s == 1)]) == 0):\n",
    "            continue\n",
    "        tmp = _eval_kld(*[x[(u == u_val) & (s == s_val)] for s_val in order])\n",
    "        if np.isnan(tmp):\n",
    "            continue\n",
    "        tot_kld += tmp * u_count / len(u)\n",
    "\n",
    "    return tot_kld"
   ]
  },
  {
   "cell_type": "code",
   "execution_count": 43,
   "metadata": {},
   "outputs": [],
   "source": [
    "feats = ['age', 'hours-per-week']"
   ]
  },
  {
   "cell_type": "code",
   "execution_count": 44,
   "metadata": {},
   "outputs": [
    {
     "name": "stdout",
     "output_type": "stream",
     "text": [
      "[0.38292142 0.85524445]\n",
      "[0.0186931  3.32285599]\n",
      "[0.00504739 0.29468322]\n"
     ]
    },
    {
     "data": {
      "image/png": "[encoded data removed]",
      "text/plain": [
       "<Figure size 1200x800 with 1 Axes>"
      ]
     },
     "metadata": {},
     "output_type": "display_data"
    }
   ],
   "source": [
    "fig, ax = plt.subplots(figsize=(12, 8))\n",
    "kld_x = np.zeros(shape=(len(feats), 2))\n",
    "kld_x_tilde = np.zeros(shape=(len(feats), 2))\n",
    "kld_x_tilde_pt = np.zeros(shape=(len(feats), 2))\n",
    "\n",
    "bar_width = 0.2\n",
    "pos = np.arange(len(feats))\n",
    "\n",
    "for i, feat in enumerate(feats):\n",
    "    kld_x[i, 0] = eval_kld(x_R[feat], s_R, u_R, order=[0, 1])\n",
    "    kld_x[i, 1] = eval_kld(x_R[feat], s_R, u_R, order=[1, 0])\n",
    "    kld_x_tilde[i, 0] = eval_kld(tilde_x_R[feat], s_R, u_R, order=[0, 1])\n",
    "    kld_x_tilde[i, 1] = eval_kld(tilde_x_R[feat], s_R, u_R, order=[1, 0])\n",
    "    kld_x_tilde_pt[i, 0] = eval_kld(tilde_x_R_pt[feat], s_R, u_R, order=[0, 1])\n",
    "    kld_x_tilde_pt[i, 1] = eval_kld(tilde_x_R_pt[feat], s_R, u_R, order=[1, 0])\n",
    "\n",
    "ax.bar(x=pos - bar_width, height=np.mean(kld_x, axis=1, where=~(np.isinf(kld_x))), width=bar_width, alpha=1, label='Original Data')\n",
    "ax.bar(x=pos, height=np.mean(kld_x_tilde, axis=1, where=~(np.isinf(kld_x_tilde))), width=bar_width, alpha=1, label='Repaired Data')\n",
    "ax.bar(x=pos + bar_width, height=np.mean(kld_x_tilde_pt, axis=1, where=~(np.isinf(kld_x_tilde_pt))), width=bar_width, alpha=1, label='Gordaliza Repair')\n",
    "\n",
    "ax.set_xticks(pos)\n",
    "ax.set_xticklabels(feats)\n",
    "ax.set_title('U-Mean KLD for Research Data')\n",
    "ax.legend()\n",
    "\n",
    "print(np.mean(kld_x, axis=1, where=~(np.isinf(kld_x))))\n",
    "print(np.mean(kld_x_tilde, axis=1, where=~(np.isinf(kld_x_tilde))))\n",
    "print(np.mean(kld_x_tilde_pt, axis=1, where=~(np.isinf(kld_x_tilde_pt))))"
   ]
  },
  {
   "cell_type": "code",
   "execution_count": 45,
   "metadata": {},
   "outputs": [
    {
     "name": "stdout",
     "output_type": "stream",
     "text": [
      "[0.32582157 0.92075706]\n",
      "[0.05953857 3.35781738]\n"
     ]
    },
    {
     "data": {
      "image/png": "[encoded data removed]",
      "text/plain": [
       "<Figure size 1200x800 with 1 Axes>"
      ]
     },
     "metadata": {},
     "output_type": "display_data"
    }
   ],
   "source": [
    "fig, ax = plt.subplots(figsize=(12, 8))\n",
    "kld_x = np.zeros(shape=(len(feats), 2))\n",
    "kld_x_tilde = np.zeros(shape=(len(feats), 2))\n",
    "\n",
    "bar_width = 0.3\n",
    "pos = np.arange(len(feats))\n",
    "\n",
    "for i, feat in enumerate(feats):\n",
    "    kld_x[i, 0] = eval_kld(x_A[feat], s_A, u_A, order=[0, 1])\n",
    "    kld_x[i, 1] = eval_kld(x_A[feat], s_A, u_A, order=[1, 0])\n",
    "    kld_x_tilde[i, 0] = eval_kld(tilde_x_A[feat], s_A, u_A, order=[0, 1])\n",
    "    kld_x_tilde[i, 1] = eval_kld(tilde_x_A[feat], s_A, u_A, order=[1, 0])\n",
    "\n",
    "ax.bar(x=pos - bar_width/2, height=np.mean(kld_x, axis=1, where=~(np.isinf(kld_x))), width=bar_width, alpha=1, label='Original Data')\n",
    "ax.bar(x=pos + bar_width/2, height=np.mean(kld_x_tilde, axis=1, where=~(np.isinf(kld_x_tilde))), width=bar_width, alpha=1, label='Repaired Data')\n",
    "\n",
    "ax.set_xticks(pos)\n",
    "ax.set_xticklabels(feats)\n",
    "ax.set_title('U-Mean KLD for Repaired Archival Dataset')\n",
    "ax.legend()\n",
    "\n",
    "print(np.mean(kld_x, axis=1, where=~(np.isinf(kld_x))))\n",
    "print(np.mean(kld_x_tilde, axis=1, where=~(np.isinf(kld_x_tilde))))"
   ]
  }
 ],
 "metadata": {
  "kernelspec": {
   "display_name": "Python 3",
   "language": "python",
   "name": "python3"
  },
  "language_info": {
   "codemirror_mode": {
    "name": "ipython",
    "version": 3
   },
   "file_extension": ".py",
   "mimetype": "text/x-python",
   "name": "python",
   "nbconvert_exporter": "python",
   "pygments_lexer": "ipython3",
   "version": "3.10.11"
  }
 },
 "nbformat": 4,
 "nbformat_minor": 2
}
