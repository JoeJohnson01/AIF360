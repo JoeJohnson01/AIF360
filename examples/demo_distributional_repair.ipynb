{
 "cells": [
  {
   "cell_type": "code",
   "execution_count": 1,
   "metadata": {},
   "outputs": [
    {
     "name": "stderr",
     "output_type": "stream",
     "text": [
      "C:\\Users\\01joh\\AppData\\Local\\Packages\\PythonSoftwareFoundation.Python.3.10_qbz5n2kfra8p0\\LocalCache\\local-packages\\Python310\\site-packages\\ot\\backend.py:2998: UserWarning: To use TensorflowBackend, you need to activate the tensorflow numpy API. You can activate it by running: \n",
      "from tensorflow.python.ops.numpy_ops import np_config\n",
      "np_config.enable_numpy_behavior()\n",
      "  register_backend(TensorflowBackend())\n"
     ]
    }
   ],
   "source": [
    "# Load all necessary packages\n",
    "import sys\n",
    "sys.path.append(\"../\")\n",
    "from aif360.algorithms.preprocessing.distributional_repair import DistributionalRepair\n",
    "# from aif360.algorithms.preprocessing.pointwise_repair import PointwiseRepair\n",
    "\n",
    "from aif360.datasets import AdultDataset\n",
    "import numpy as np\n",
    "import pandas as pd\n",
    "import ot\n",
    "import matplotlib.pyplot as plt\n",
    "from sklearn.neighbors import KernelDensity"
   ]
  },
  {
   "cell_type": "code",
   "execution_count": 2,
   "metadata": {},
   "outputs": [],
   "source": [
    "def load_adult_dataset(s,u,x,y):\n",
    "    def custom_preprocessing(df):\n",
    "        def group_race(x):\n",
    "            if x == \"White\":\n",
    "                return 1.0\n",
    "            else:\n",
    "                return 0.0\n",
    "\n",
    "        df['race'] = df['race'].apply(lambda x: group_race(x))\n",
    "\n",
    "        # Encode 'sex' column as numerical values\n",
    "        df['sex'] = df['sex'].map({'Female': 0.0, 'Male': 1.0})\n",
    "\n",
    "        df['Income Binary'] = df['income-per-year']\n",
    "        df['Income Binary'] = df['Income Binary'].replace(to_replace='>50K.', value=1, regex=True)\n",
    "        df['Income Binary'] = df['Income Binary'].replace(to_replace='>50K', value=1, regex=True)\n",
    "        df['Income Binary'] = df['Income Binary'].replace(to_replace='<=50K.', value=0, regex=True)\n",
    "        df['Income Binary'] = df['Income Binary'].replace(to_replace='<=50K', value=0, regex=True)\n",
    "        # 1 if education-num is greater than 9, 0 otherwise\n",
    "        df['college_educated'] = (df['education-num'] > 9).astype(int)\n",
    "\n",
    "        #drop nan columns\n",
    "        df = df.dropna()\n",
    "\n",
    "        return df\n",
    "\n",
    "    adult = AdultDataset(\n",
    "        label_name=y,\n",
    "        favorable_classes=[1,1],\n",
    "        protected_attribute_names=[s],\n",
    "        privileged_classes=[[1.0]],\n",
    "        instance_weights_name=None,\n",
    "        categorical_features=[],\n",
    "        features_to_keep=[s]+[u]+x,\n",
    "        na_values=[],\n",
    "        custom_preprocessing=custom_preprocessing,\n",
    "        features_to_drop=[],\n",
    "        metadata={}\n",
    "    )\n",
    "    return adult"
   ]
  },
  {
   "cell_type": "code",
   "execution_count": 3,
   "metadata": {},
   "outputs": [],
   "source": [
    "def eval_labels(Y, S, S_set=[0,1]):\n",
    "    eval_dict = {}\n",
    "    eval_dict['di'] = np.sum(Y[S == S_set[0]]) / np.sum(Y[S == S_set[1]])\n",
    "    return eval_dict\n",
    "\n",
    "def _eval_kld(x_0, x_1):\n",
    "    support = np.linspace(np.min([np.min(x_0), np.min(x_1)]), np.max([np.max(x_0), np.max(x_1)]), 500).reshape(-1,1)\n",
    "    kde_0 = KernelDensity(kernel='gaussian',bandwidth='silverman').fit(x_0.reshape(-1,1))\n",
    "    pmf_0 = np.exp(kde_0.score_samples(support)) \n",
    "    #add a small value to avoid division by zero\n",
    "    pmf_0 += 1e-10\n",
    "    kde_1 = KernelDensity(kernel='gaussian',bandwidth='silverman').fit(x_1.reshape(-1,1))\n",
    "    pmf_1 = np.exp(kde_1.score_samples(support))\n",
    "    pmf_1 += 1e-10\n",
    "    return - np.sum(pmf_0 * np.log(pmf_1 / pmf_0))\n",
    "\n",
    "def eval_kld(x, s, u, order=[0,1]):\n",
    "    tot_kld = 0.0\n",
    "    for u_val, u_count in u.value_counts().items():\n",
    "        mask_0 = np.asarray((u == u_val) & (s == 0))\n",
    "        mask_1 = np.asarray((u == u_val) & (s == 1))\n",
    "        if (np.sum(mask_0) == 0) or (np.sum(mask_1) == 0):\n",
    "            continue\n",
    "        tmp = _eval_kld(x[mask_0].values, x[mask_1].values)\n",
    "        if np.isnan(tmp):\n",
    "            continue\n",
    "        tot_kld += tmp * u_count / len(u)\n",
    "    return tot_kld"
   ]
  },
  {
   "cell_type": "code",
   "execution_count": 4,
   "metadata": {},
   "outputs": [
    {
     "name": "stderr",
     "output_type": "stream",
     "text": [
      "C:\\Users\\01joh\\AppData\\Local\\Temp\\ipykernel_8064\\2542293367.py:18: FutureWarning: Downcasting behavior in `replace` is deprecated and will be removed in a future version. To retain the old behavior, explicitly call `result.infer_objects(copy=False)`. To opt-in to the future behavior, set `pd.set_option('future.no_silent_downcasting', True)`\n",
      "  df['Income Binary'] = df['Income Binary'].replace(to_replace='<=50K', value=0, regex=True)\n"
     ]
    }
   ],
   "source": [
    "n_R = 10000 # number of points in the research dataset\n",
    "n_q = 250 # number of supports under the estimated pdfs\n",
    "\n",
    "s = 'sex'\n",
    "u = 'college_educated'\n",
    "x = ['age','education-num','hours-per-week']\n",
    "y = 'Income Binary'\n",
    "\n",
    "continuous_features = ['age','hours-per-week']\n",
    "# continuous_features = ['age','hours-per-week','education-num']\n",
    "\n",
    "data = load_adult_dataset(s,u,x,y)\n",
    "data_R, data_A = data.split([n_R], shuffle=False)"
   ]
  },
  {
   "cell_type": "code",
   "execution_count": 5,
   "metadata": {},
   "outputs": [],
   "source": [
    "d = DistributionalRepair(s, u, x, y, continuous_features, n_q)\n",
    "# dataset_R_repaired, dataset_A_repaired = d.fit_transform(dataset_R, dataset_A)\n",
    "dataset_R_repaired, dataset_A_repaired = d.fit_transform(data_R, data_A)"
   ]
  },
  {
   "cell_type": "code",
   "execution_count": 6,
   "metadata": {},
   "outputs": [],
   "source": [
    "tilde_x_R = dataset_R_repaired.convert_to_dataframe()[0][x]\n",
    "tilde_x_A = dataset_A_repaired.convert_to_dataframe()[0][x]"
   ]
  },
  {
   "cell_type": "code",
   "execution_count": 7,
   "metadata": {},
   "outputs": [
    {
     "name": "stdout",
     "output_type": "stream",
     "text": [
      "['age', 'hours-per-week']\n"
     ]
    }
   ],
   "source": [
    "# Features to ignore for plotting (e.g. if a x value is directly related to u or s)\n",
    "ignored_features = ['education-num']\n",
    "feats = [f for f in x if f not in ignored_features]\n",
    "print(feats)"
   ]
  },
  {
   "cell_type": "code",
   "execution_count": 8,
   "metadata": {},
   "outputs": [
    {
     "name": "stdout",
     "output_type": "stream",
     "text": [
      "Research Dataset:\n",
      "[0.58921901 1.25029743]\n",
      "[0.27210312 0.42597797]\n",
      "Archival Dataset:\n",
      "[0.53333975 1.11492956]\n",
      "[0.47500088 0.26506277]\n"
     ]
    }
   ],
   "source": [
    "kld_x_R = np.zeros(shape=(len(feats), 2))\n",
    "kld_x_tilde_R = np.zeros(shape=(len(feats), 2))\n",
    "kld_x_A = np.zeros(shape=(len(feats), 2))\n",
    "kld_x_tilde_A = np.zeros(shape=(len(feats), 2))\n",
    "pos = np.arange(len(feats))\n",
    "\n",
    "for i, feat in enumerate(feats):\n",
    "    kld_x_R[i, 0] = eval_kld(d.x_R[feat], d.s_R, d.u_R, order=[0, 1])\n",
    "    kld_x_R[i, 1] = eval_kld(d.x_R[feat], d.s_R, d.u_R, order=[1, 0])\n",
    "    kld_x_tilde_R[i, 0] = eval_kld(tilde_x_R[feat], d.s_R, d.u_R, order=[0, 1])\n",
    "    kld_x_tilde_R[i, 1] = eval_kld(tilde_x_R[feat], d.s_R, d.u_R, order=[1, 0])\n",
    "    \n",
    "    kld_x_A[i, 0] = eval_kld(data_A.convert_to_dataframe()[0][x][feat], data_A.convert_to_dataframe()[0][s], data_A.convert_to_dataframe()[0][u], order=[0, 1])\n",
    "    kld_x_A[i, 1] = eval_kld(data_A.convert_to_dataframe()[0][x][feat], data_A.convert_to_dataframe()[0][s], data_A.convert_to_dataframe()[0][u], order=[1, 0])\n",
    "    kld_x_tilde_A[i, 0] = eval_kld(tilde_x_A[feat], data_A.convert_to_dataframe()[0][s], data_A.convert_to_dataframe()[0][u], order=[0, 1])\n",
    "    kld_x_tilde_A[i, 1] = eval_kld(tilde_x_A[feat], data_A.convert_to_dataframe()[0][s], data_A.convert_to_dataframe()[0][u], order=[1, 0])\n",
    "\n",
    "print(\"Research Dataset:\")\n",
    "print(np.mean(kld_x_R, axis=1, where=~(np.isinf(kld_x_R))))\n",
    "print(np.mean(kld_x_tilde_R, axis=1, where=~(np.isinf(kld_x_tilde_R))))\n",
    "\n",
    "print(\"Archival Dataset:\")\n",
    "print(np.mean(kld_x_A, axis=1, where=~(np.isinf(kld_x_A))))\n",
    "print(np.mean(kld_x_tilde_A, axis=1, where=~(np.isinf(kld_x_tilde_A))))"
   ]
  },
  {
   "cell_type": "code",
   "execution_count": 9,
   "metadata": {},
   "outputs": [
    {
     "data": {
      "text/plain": [
       "<matplotlib.legend.Legend at 0x22aeb827520>"
      ]
     },
     "execution_count": 9,
     "metadata": {},
     "output_type": "execute_result"
    },
    {
     "data": {
      "image/png": "[encoded data removed]",
      "text/plain": [
       "<Figure size 800x800 with 1 Axes>"
      ]
     },
     "metadata": {},
     "output_type": "display_data"
    }
   ],
   "source": [
    "\n",
    "fig, ax = plt.subplots(figsize=(8, 8))\n",
    "bar_width = 0.3\n",
    "\n",
    "original_color = 'red'\n",
    "repaired_color = 'green'\n",
    "\n",
    "original_bars = ax.bar(x=pos - bar_width/2, height=np.mean(kld_x_A, axis=1, where=~(np.isinf(kld_x_A))), width=bar_width, alpha=0.4, color=original_color, label='Original Archived Data')\n",
    "repaired_bars = ax.bar(x=pos + bar_width/2, height=np.mean(kld_x_tilde_A, axis=1, where=~(np.isinf(kld_x_tilde_A))), width=bar_width, alpha=0.4, color=repaired_color, label='Repaired Archived Data')\n",
    "\n",
    "ax.scatter(x=pos - bar_width/2, y=np.mean(kld_x_R, axis=1, where=~(np.isinf(kld_x_R))), color=original_color, marker='o', s=50, label='Original Research Data')\n",
    "ax.scatter(x=pos + bar_width/2, y=np.mean(kld_x_tilde_R, axis=1, where=~(np.isinf(kld_x_tilde_R))), color=repaired_color, marker='o', s=50, label='Repaired Research Data')\n",
    "\n",
    "ax.set_xticks(pos)\n",
    "ax.set_xticklabels(feats)\n",
    "ax.set_title('U-Mean KLD for Repaired Research and Archival Datasets')\n",
    "ax.legend()"
   ]
  }
 ],
 "metadata": {
  "kernelspec": {
   "display_name": "Python 3",
   "language": "python",
   "name": "python3"
  },
  "language_info": {
   "codemirror_mode": {
    "name": "ipython",
    "version": 3
   },
   "file_extension": ".py",
   "mimetype": "text/x-python",
   "name": "python",
   "nbconvert_exporter": "python",
   "pygments_lexer": "ipython3",
   "version": "3.10.11"
  }
 },
 "nbformat": 4,
 "nbformat_minor": 2
}
